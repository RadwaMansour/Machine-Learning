{
 "cells": [
  {
   "cell_type": "code",
   "execution_count": 33,
   "id": "0073a5bf",
   "metadata": {},
   "outputs": [],
   "source": [
    "import numpy as np\n",
    "from tensorflow.keras.models import Sequential\n",
    "from tensorflow.keras.layers import Dense, Activation, Dropout, LSTM\n",
    "from tensorflow.keras.utils import to_categorical, plot_model\n",
    "from tensorflow.keras.datasets import mnist\n",
    "from sklearn.model_selection import train_test_split\n",
    "from matplotlib import pyplot as plt\n"
   ]
  },
  {
   "cell_type": "code",
   "execution_count": 34,
   "id": "b2deb28d",
   "metadata": {},
   "outputs": [],
   "source": [
    "# load mnist dataset\n",
    "(x_train, y_train), (x_test, y_test) = mnist.load_data()"
   ]
  },
  {
   "cell_type": "code",
   "execution_count": 35,
   "id": "03b36ed0",
   "metadata": {},
   "outputs": [
    {
     "name": "stdout",
     "output_type": "stream",
     "text": [
      "60000\n"
     ]
    }
   ],
   "source": [
    "print(len(x_train))"
   ]
  },
  {
   "cell_type": "code",
   "execution_count": 36,
   "id": "7fdbb3ad",
   "metadata": {},
   "outputs": [
    {
     "name": "stdout",
     "output_type": "stream",
     "text": [
      "10000\n"
     ]
    }
   ],
   "source": [
    "print(len(x_test))"
   ]
  },
  {
   "cell_type": "code",
   "execution_count": 37,
   "id": "c0446d7f",
   "metadata": {},
   "outputs": [
    {
     "data": {
      "text/plain": [
       "10"
      ]
     },
     "execution_count": 37,
     "metadata": {},
     "output_type": "execute_result"
    }
   ],
   "source": [
    "# compute the number of labels\n",
    "num_labels = len(np.unique(y_train))\n",
    "num_labels"
   ]
  },
  {
   "cell_type": "code",
   "execution_count": 38,
   "id": "2477f2b3",
   "metadata": {},
   "outputs": [
    {
     "name": "stdout",
     "output_type": "stream",
     "text": [
      "(60000, 10)\n",
      "(10000, 10)\n"
     ]
    }
   ],
   "source": [
    "# convert to one-hot vector\n",
    "y_train = to_categorical(y_train)\n",
    "y_test = to_categorical(y_test)\n",
    "print(y_train.shape)\n",
    "print(y_test.shape)"
   ]
  },
  {
   "cell_type": "code",
   "execution_count": 39,
   "id": "1e2c726c",
   "metadata": {},
   "outputs": [
    {
     "name": "stdout",
     "output_type": "stream",
     "text": [
      "28\n"
     ]
    }
   ],
   "source": [
    "# resize and normalize\n",
    "image_size = x_train.shape[1]\n",
    "print(image_size)\n",
    "x_train = np.reshape(x_train,[-1, image_size, image_size])\n",
    "x_test = np.reshape(x_test,[-1, image_size, image_size])\n",
    "\n",
    "# Scale images to the [0, 1] range\n",
    "x_train = x_train.astype('float32') / 255\n",
    "x_test = x_test.astype('float32') / 255"
   ]
  },
  {
   "cell_type": "code",
   "execution_count": 40,
   "id": "1196a5c4",
   "metadata": {},
   "outputs": [
    {
     "name": "stdout",
     "output_type": "stream",
     "text": [
      "x_train shape: (60000, 28, 28)\n",
      "x_test shape: (10000, 28, 28)\n"
     ]
    }
   ],
   "source": [
    "print('x_train shape:', x_train.shape)\n",
    "print('x_test shape:', x_test.shape)"
   ]
  },
  {
   "cell_type": "code",
   "execution_count": 41,
   "id": "62fc4955",
   "metadata": {},
   "outputs": [],
   "source": [
    "#spli validation from train\n",
    "x_train, x_val, y_train, y_val = train_test_split(x_train,y_train, test_size = 0.2, random_state=42)"
   ]
  },
  {
   "cell_type": "code",
   "execution_count": 42,
   "id": "8a3e2f25",
   "metadata": {},
   "outputs": [],
   "source": [
    "# network parameters\n",
    "input_shape = (image_size, image_size)\n",
    "batch_size = 64 #128\n",
    "units = 256\n",
    "dropout = 0.2\n",
    "epochs = 40"
   ]
  },
  {
   "cell_type": "code",
   "execution_count": 43,
   "id": "8e2e18c3",
   "metadata": {},
   "outputs": [
    {
     "name": "stdout",
     "output_type": "stream",
     "text": [
      "Model: \"sequential_4\"\n",
      "_________________________________________________________________\n",
      " Layer (type)                Output Shape              Param #   \n",
      "=================================================================\n",
      " lstm_3 (LSTM)               (None, 256)               291840    \n",
      "                                                                 \n",
      " dense_15 (Dense)            (None, 128)               32896     \n",
      "                                                                 \n",
      " dense_16 (Dense)            (None, 128)               16512     \n",
      "                                                                 \n",
      " dense_17 (Dense)            (None, 356)               45924     \n",
      "                                                                 \n",
      " dense_18 (Dense)            (None, 356)               127092    \n",
      "                                                                 \n",
      " dense_19 (Dense)            (None, 10)                3570      \n",
      "                                                                 \n",
      " activation_3 (Activation)   (None, 10)                0         \n",
      "                                                                 \n",
      "=================================================================\n",
      "Total params: 517,834\n",
      "Trainable params: 517,834\n",
      "Non-trainable params: 0\n",
      "_________________________________________________________________\n"
     ]
    }
   ],
   "source": [
    "#model is RNN with 256 units\n",
    "model = Sequential()\n",
    "\n",
    "#model.add(LSTM(units=units,input_shape=input_shape))\n",
    "model.add(LSTM(units=units,dropout=dropout,input_shape=input_shape))\n",
    "\n",
    "model.add(Dense(128, activation='relu'))\n",
    "model.add(Dense(128, activation='relu'))\n",
    "model.add(Dense(356, activation='relu'))\n",
    "model.add(Dense(356, activation='relu'))\n",
    "model.add(Dense(num_labels))\n",
    "model.add(Activation('softmax'))\n",
    "model.summary()\n"
   ]
  },
  {
   "cell_type": "code",
   "execution_count": 44,
   "id": "1b01bcaa",
   "metadata": {},
   "outputs": [
    {
     "name": "stdout",
     "output_type": "stream",
     "text": [
      "Epoch 1/40\n",
      "750/750 [==============================] - 39s 49ms/step - loss: 2.2741 - accuracy: 0.2191 - val_loss: 2.2127 - val_accuracy: 0.2177\n",
      "Epoch 2/40\n",
      "750/750 [==============================] - 36s 48ms/step - loss: 1.9949 - accuracy: 0.2877 - val_loss: 1.7187 - val_accuracy: 0.3934\n",
      "Epoch 3/40\n",
      "750/750 [==============================] - 35s 47ms/step - loss: 1.4566 - accuracy: 0.4729 - val_loss: 1.1153 - val_accuracy: 0.5975\n",
      "Epoch 4/40\n",
      "750/750 [==============================] - 37s 49ms/step - loss: 0.8866 - accuracy: 0.6879 - val_loss: 0.6582 - val_accuracy: 0.7829\n",
      "Epoch 5/40\n",
      "750/750 [==============================] - 37s 49ms/step - loss: 0.6438 - accuracy: 0.7775 - val_loss: 0.5192 - val_accuracy: 0.8230\n",
      "Epoch 6/40\n",
      "750/750 [==============================] - 36s 48ms/step - loss: 0.5052 - accuracy: 0.8280 - val_loss: 0.3834 - val_accuracy: 0.8744\n",
      "Epoch 7/40\n",
      "750/750 [==============================] - 37s 49ms/step - loss: 0.4074 - accuracy: 0.8656 - val_loss: 0.3155 - val_accuracy: 0.9024\n",
      "Epoch 8/40\n",
      "750/750 [==============================] - 38s 50ms/step - loss: 0.3290 - accuracy: 0.8915 - val_loss: 0.3039 - val_accuracy: 0.9009\n",
      "Epoch 9/40\n",
      "750/750 [==============================] - 37s 50ms/step - loss: 0.2737 - accuracy: 0.9115 - val_loss: 0.2296 - val_accuracy: 0.9283\n",
      "Epoch 10/40\n",
      "750/750 [==============================] - 37s 49ms/step - loss: 0.2407 - accuracy: 0.9226 - val_loss: 0.1835 - val_accuracy: 0.9451\n",
      "Epoch 11/40\n",
      "750/750 [==============================] - 41s 54ms/step - loss: 0.2113 - accuracy: 0.9328 - val_loss: 0.1596 - val_accuracy: 0.9532\n",
      "Epoch 12/40\n",
      "750/750 [==============================] - 42s 56ms/step - loss: 0.1898 - accuracy: 0.9405 - val_loss: 0.1677 - val_accuracy: 0.9502\n",
      "Epoch 13/40\n",
      "750/750 [==============================] - 41s 55ms/step - loss: 0.1770 - accuracy: 0.9441 - val_loss: 0.1406 - val_accuracy: 0.9575\n",
      "Epoch 14/40\n",
      "750/750 [==============================] - 40s 54ms/step - loss: 0.1621 - accuracy: 0.9491 - val_loss: 0.1285 - val_accuracy: 0.9612\n",
      "Epoch 15/40\n",
      "750/750 [==============================] - 42s 56ms/step - loss: 0.1514 - accuracy: 0.9520 - val_loss: 0.1474 - val_accuracy: 0.9541\n",
      "Epoch 16/40\n",
      "750/750 [==============================] - 43s 57ms/step - loss: 0.1404 - accuracy: 0.9557 - val_loss: 0.1117 - val_accuracy: 0.9662\n",
      "Epoch 17/40\n",
      "750/750 [==============================] - 41s 55ms/step - loss: 0.1349 - accuracy: 0.9572 - val_loss: 0.1096 - val_accuracy: 0.9678\n",
      "Epoch 18/40\n",
      "750/750 [==============================] - 41s 55ms/step - loss: 0.1257 - accuracy: 0.9592 - val_loss: 0.1047 - val_accuracy: 0.9690\n",
      "Epoch 19/40\n",
      "750/750 [==============================] - 43s 57ms/step - loss: 0.1165 - accuracy: 0.9627 - val_loss: 0.0975 - val_accuracy: 0.9699\n",
      "Epoch 20/40\n",
      "750/750 [==============================] - 43s 58ms/step - loss: 0.1133 - accuracy: 0.9641 - val_loss: 0.1021 - val_accuracy: 0.9686\n",
      "Epoch 21/40\n",
      "750/750 [==============================] - 42s 57ms/step - loss: 0.1077 - accuracy: 0.9657 - val_loss: 0.1058 - val_accuracy: 0.9665\n",
      "Epoch 22/40\n",
      "750/750 [==============================] - 41s 55ms/step - loss: 0.1016 - accuracy: 0.9679 - val_loss: 0.0866 - val_accuracy: 0.9740\n",
      "Epoch 23/40\n",
      "750/750 [==============================] - 40s 53ms/step - loss: 0.0970 - accuracy: 0.9687 - val_loss: 0.0962 - val_accuracy: 0.9709\n",
      "Epoch 24/40\n",
      "750/750 [==============================] - 41s 54ms/step - loss: 0.0963 - accuracy: 0.9693 - val_loss: 0.0801 - val_accuracy: 0.9763\n",
      "Epoch 25/40\n",
      "750/750 [==============================] - 41s 55ms/step - loss: 0.0926 - accuracy: 0.9701 - val_loss: 0.0842 - val_accuracy: 0.9743\n",
      "Epoch 26/40\n",
      "750/750 [==============================] - 40s 53ms/step - loss: 0.0890 - accuracy: 0.9718 - val_loss: 0.0772 - val_accuracy: 0.9771\n",
      "Epoch 27/40\n",
      "750/750 [==============================] - 40s 53ms/step - loss: 0.0860 - accuracy: 0.9728 - val_loss: 0.0761 - val_accuracy: 0.9775\n",
      "Epoch 28/40\n",
      "750/750 [==============================] - 41s 55ms/step - loss: 0.0822 - accuracy: 0.9739 - val_loss: 0.0898 - val_accuracy: 0.9728\n",
      "Epoch 29/40\n",
      "750/750 [==============================] - 42s 56ms/step - loss: 0.0800 - accuracy: 0.9737 - val_loss: 0.0739 - val_accuracy: 0.9777\n",
      "Epoch 30/40\n",
      "750/750 [==============================] - 41s 54ms/step - loss: 0.0783 - accuracy: 0.9751 - val_loss: 0.0742 - val_accuracy: 0.9778\n",
      "Epoch 31/40\n",
      "750/750 [==============================] - 41s 54ms/step - loss: 0.0758 - accuracy: 0.9753 - val_loss: 0.0761 - val_accuracy: 0.9775\n",
      "Epoch 32/40\n",
      "750/750 [==============================] - 42s 55ms/step - loss: 0.0734 - accuracy: 0.9764 - val_loss: 0.0693 - val_accuracy: 0.9796\n",
      "Epoch 33/40\n",
      "750/750 [==============================] - 42s 57ms/step - loss: 0.0702 - accuracy: 0.9775 - val_loss: 0.0763 - val_accuracy: 0.9775\n",
      "Epoch 34/40\n",
      "750/750 [==============================] - 42s 56ms/step - loss: 0.0674 - accuracy: 0.9782 - val_loss: 0.0835 - val_accuracy: 0.9732\n",
      "Epoch 35/40\n",
      "750/750 [==============================] - 41s 55ms/step - loss: 0.0669 - accuracy: 0.9780 - val_loss: 0.0672 - val_accuracy: 0.9802\n",
      "Epoch 36/40\n",
      "750/750 [==============================] - 41s 55ms/step - loss: 0.0668 - accuracy: 0.9782 - val_loss: 0.0658 - val_accuracy: 0.9797\n",
      "Epoch 37/40\n",
      "750/750 [==============================] - 44s 58ms/step - loss: 0.0606 - accuracy: 0.9806 - val_loss: 0.0667 - val_accuracy: 0.9805\n",
      "Epoch 38/40\n",
      "750/750 [==============================] - 42s 56ms/step - loss: 0.0601 - accuracy: 0.9802 - val_loss: 0.0693 - val_accuracy: 0.9801\n",
      "Epoch 39/40\n",
      "750/750 [==============================] - 40s 54ms/step - loss: 0.0591 - accuracy: 0.9809 - val_loss: 0.0716 - val_accuracy: 0.9781\n",
      "Epoch 40/40\n",
      "750/750 [==============================] - 40s 54ms/step - loss: 0.0564 - accuracy: 0.9818 - val_loss: 0.0680 - val_accuracy: 0.9793\n"
     ]
    }
   ],
   "source": [
    "#compile the model\n",
    "model.compile(loss='categorical_crossentropy',optimizer='sgd',metrics=['accuracy'])\n",
    "\n",
    "# train the network\n",
    "history=model.fit(x_train, y_train, epochs=epochs, batch_size=batch_size,validation_data=(x_val,y_val))"
   ]
  },
  {
   "cell_type": "code",
   "execution_count": 45,
   "id": "9e31274d",
   "metadata": {},
   "outputs": [
    {
     "name": "stdout",
     "output_type": "stream",
     "text": [
      "1500/1500 [==============================] - 27s 18ms/step - loss: 0.0420 - accuracy: 0.9867\n",
      "0.9867083430290222\n",
      "0.04196273908019066\n",
      "313/313 [==============================] - 6s 17ms/step - loss: 0.0587 - accuracy: 0.9811\n",
      "0.9811000227928162\n",
      "0.05872613564133644\n"
     ]
    },
    {
     "data": {
      "image/png": "[encoded data removed]",
      "text/plain": [
       "<Figure size 432x288 with 1 Axes>"
      ]
     },
     "metadata": {
      "needs_background": "light"
     },
     "output_type": "display_data"
    },
    {
     "data": {
      "image/png": "[encoded data removed]",
      "text/plain": [
       "<Figure size 432x288 with 1 Axes>"
      ]
     },
     "metadata": {
      "needs_background": "light"
     },
     "output_type": "display_data"
    }
   ],
   "source": [
    "train_loss , train_accuracy=model.evaluate(x_train,y_train)\n",
    "print(train_accuracy)\n",
    "print(train_loss)\n",
    "loss , accuracy=model.evaluate(x_test,y_test)\n",
    "print(accuracy)\n",
    "print(loss)\n",
    "y_pred = model.predict(x_test)\n",
    "\n",
    "# summarize history for accuracy\n",
    "plt.plot(history.history['accuracy'])\n",
    "plt.plot(history.history['val_accuracy'])\n",
    "plt.title('model accuracy')\n",
    "plt.ylabel('accuracy')\n",
    "plt.xlabel('epoch')\n",
    "plt.legend(['train', 'test'], loc='upper left')\n",
    "plt.show()\n",
    "\n",
    "# summarize history for loss\n",
    "plt.plot(history.history['loss'])\n",
    "plt.plot(history.history['val_loss'])\n",
    "plt.title('model loss')\n",
    "plt.ylabel('loss')\n",
    "plt.xlabel('epoch')\n",
    "plt.legend(['train', 'test'], loc='upper left')\n",
    "plt.show()"
   ]
  },
  {
   "cell_type": "code",
   "execution_count": 46,
   "id": "6de6c6ae",
   "metadata": {},
   "outputs": [
    {
     "name": "stdout",
     "output_type": "stream",
     "text": [
      "[[ 974    0    0    0    0    0    1    1    3    1]\n",
      " [   0 1130    1    0    0    0    1    0    3    0]\n",
      " [   5    1 1015    0    0    0    2    1    8    0]\n",
      " [   0    0    2  995    0    2    0    3    6    2]\n",
      " [   1    0    1    0  957    0    6    0    1   16]\n",
      " [   3    0    1   12    0  856    4    1   12    3]\n",
      " [   4    2    1    0    0    1  947    0    3    0]\n",
      " [   2    2   12    3    0    0    0  994    6    9]\n",
      " [   1    0    1    0    0    1    1    2  966    2]\n",
      " [   4    2    0    3    7    1    0    2   13  977]]\n"
     ]
    }
   ],
   "source": [
    "import seaborn as sns\n",
    "import matplotlib.pyplot as plt\n",
    "\n",
    "### Confusion Matrix\n",
    "from sklearn.metrics import confusion_matrix\n",
    "predictions = model.predict(x_test, steps=len(x_test), verbose=0)\n",
    "#y_pred=model.predict(x_test)\n",
    "#y_pred = np.round(y_pred)\n",
    "y_pred = np.argmax(predictions, axis=-1)\n",
    "\n",
    "y_true=np.argmax(y_test, axis=-1)\n",
    "\n",
    "cm = confusion_matrix(y_true, y_pred)\n",
    "print(cm)"
   ]
  },
  {
   "cell_type": "code",
   "execution_count": 47,
   "id": "3d961a27",
   "metadata": {},
   "outputs": [
    {
     "data": {
      "image/png": "[encoded data removed]",
      "text/plain": [
       "<Figure size 1152x1008 with 2 Axes>"
      ]
     },
     "metadata": {
      "needs_background": "light"
     },
     "output_type": "display_data"
    }
   ],
   "source": [
    "# Plot confusion matrix in a beautiful manner\n",
    "fig = plt.figure(figsize=(16, 14))\n",
    "ax= plt.subplot()\n",
    "sns.heatmap(cm, annot=True, ax = ax, fmt = 'g'); #annot=True to annotate cells\n",
    "# labels, title and ticks\n",
    "ax.set_xlabel('Predicted', fontsize=20)\n",
    "ax.xaxis.set_label_position('bottom')\n",
    "plt.xticks(rotation=90)\n",
    "#ax.xaxis.set_ticklabels(num_labels,fontsize = 10)\n",
    "ax.xaxis.tick_bottom()\n",
    "\n",
    "ax.set_ylabel('True', fontsize=20)\n",
    "#ax.yaxis.set_ticklabels(num_labels, fontsize = 10)\n",
    "plt.yticks(rotation=0)\n",
    "\n",
    "plt.title('Refined Confusion Matrix', fontsize=20)\n",
    "\n",
    "plt.savefig('ConMat24.png')\n",
    "plt.show()"
   ]
  },
  {
   "cell_type": "code",
   "execution_count": null,
   "id": "cd1cbf8b",
   "metadata": {},
   "outputs": [],
   "source": []
  }
 ],
 "metadata": {
  "kernelspec": {
   "display_name": "Python 3",
   "language": "python",
   "name": "python3"
  },
  "language_info": {
   "codemirror_mode": {
    "name": "ipython",
    "version": 3
   },
   "file_extension": ".py",
   "mimetype": "text/x-python",
   "name": "python",
   "nbconvert_exporter": "python",
   "pygments_lexer": "ipython3",
   "version": "3.8.8"
  }
 },
 "nbformat": 4,
 "nbformat_minor": 5
}
